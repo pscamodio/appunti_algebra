{
 "metadata": {
  "name": "",
  "signature": "sha256:1a9008cceba6d4db37c5c575ec0bc87433b46eb99431145ae0f8a7036cce61e0"
 },
 "nbformat": 3,
 "nbformat_minor": 0,
 "worksheets": [
  {
   "cells": [
    {
     "cell_type": "markdown",
     "metadata": {},
     "source": [
      "#Composizione fra funzioni\n",
      "Oltre a sommare o fare prodotti fra funzioni \u00e8 possibile anche comprorre funzioni.  \n",
      "Cio\u00e8 crare una nuova funzione che abbina a ogni valore dell'immagine della prima funzione un valore dell'immagine della seconda funzione.\n",
      "$$\n",
      "f_1: A_1\\to R, f_2: A_2\\to R \\\\\n",
      "f_1(A_1) \\subset A_2 \\Rightarrow \\\\\n",
      "f_2(f_1(x)) = (f_2 \\circ f_1)(x) \\\\\n",
      "(f_2 \\circ f_1) \\ne (f_1 \\circ f_2) \\\\\n",
      "$$\n",
      "\n",
      "####Esempio\n",
      "$$\n",
      "f_1: x \\mapsto x+1 \\\\\n",
      "f_2: x \\mapsto 2x \\\\\n",
      "\\begin{cases}\n",
      "(f_2 \\circ f_1)(x) \\mapsto 2(f_1(x)) = 2(x + 1) & = 2x + 2 \\\\\n",
      "(f_1 \\circ f_2)(x) \\mapsto f_2(x) + 1 & = 2x + 1 \\\\\n",
      "\\end{cases}\n",
      "$$"
     ]
    },
    {
     "cell_type": "markdown",
     "metadata": {},
     "source": [
      "#Continuit\u00e0 della composizione di funzioni continue\n",
      "Se compongo funzioni continue, la composizione \u00e8 a sua volta continua\n",
      "\n",
      "$$\n",
      "f_1 : A_1 \\to R; f_1(x_0) = y0 \\\\\n",
      "f_2 : A_2 \\to R \\\\\n",
      "f_1(A_1) \\subseteq A_2 \\\\\n",
      "(f_2 \\circ f_1)(x) = f_2(f_1(x)) \\\\\n",
      "f_1(x) \\in A_2.\n",
      "\\forall y \\in If_1; y \\in A_2 \\Rightarrow f_2(y) \\text{ \u00e8 contiua} \\Rightarrow \\\\\n",
      "(f_2 \\circ f_1)(x) \\text{ \u00e8 continua} \\\\\n",
      "$$"
     ]
    },
    {
     "cell_type": "markdown",
     "metadata": {},
     "source": [
      "#Maggioranza fra funzioni\n",
      "Le funzioni reali abbinano a un numero reale del proprio dominio un ulteriore numero reale nella loro immagine.  \n",
      "Di conseguenza alcune propriet\u00e0 che sono state identificate per i domini delle funzioni possono essere applicate alle funzioni stesse (alla loro immagine).  \n",
      "Posso quindi definire il rapporto di maggioranza fra funzioni\n",
      "$$\n",
      "f, g: A \\mapsto R \\\\\n",
      "f \\ge g \\Rightarrow \\\\\n",
      "\\forall x \\in A; f(x) \\ge g(x) \\\\\n",
      "$$\n",
      "Allo stesso modo posso definire il concetto di minorante."
     ]
    },
    {
     "cell_type": "markdown",
     "metadata": {},
     "source": [
      "#Propriet\u00e0 delle funzioni maggioranti\n",
      "* Se ho una funzione $f(x) \\ge g(x) = C$ allora il $\\lim{f(x)} \\gt C$  \n",
      "* Data una funzione $f(x)$ che converge a un limite $L \\gt c$, al tendere di $x$ a un punto di accumulazione del dominio della funzione, l'immagine della funzione in un adeguato intorno del punto $x$ sar\u00e0 maggiore di $c$ \n",
      "\n",
      "###Teorema dei due carabinieri\n",
      "Se una funziona \u00e8 compresa fra due funzioni convergenti allo stesso limite, questa funzione converger\u00e0 al medesimo limite. \n",
      "\n",
      "$$\n",
      "f, g, h: A \\mapsto R, x_0 \\text{ punto di accumulazione} \\\\\n",
      "\\forall x \\int A^*(x_0, \\delta); \\\\\n",
      "f(x) \\le g(x) \\le h(x); \\\\\n",
      "\\lim{f(x)} = \\lim{h(x)} = L \\Rightarrow \\exists \\delta; \\\\ \n",
      "\\epsilon - \\delta \\le \\lim{f(x)} \\le \\lim{g(x)} \\le \\lim{h(x)} \\le \\epsilon + \\delta \\\\\n",
      "$$\n",
      "\n",
      "Un corollario di questo teorema \u00e8:  \n",
      "Se una funzione \u00e8 minorata da una funzione che diverge positivamente allora diverger\u00e0 positivamente.  \n",
      "Se una funzione \u00e8 maggiorata da una funzione che diverge negativamente allora diverger\u00f2 negativamente."
     ]
    },
    {
     "cell_type": "markdown",
     "metadata": {},
     "source": [
      "#Continuit\u00e0 della funzione esponenziale\n",
      "Voglio dimostrare la continuit\u00e0 della funzione esponenziale\n",
      "$$\n",
      "f: x \\mapsto a^x; a>1 \\\\\n",
      "x > x_0; \\\\\n",
      "0 \\lt a^x - a^{x_0} \\lt \\epsilon \\\\\n",
      "a^{x-x_0+x_0} - a^{x_0} \\\\\n",
      "a^{x_0}(a^{x-x_0} -1) \\\\\n",
      "x - x_0 \\le 1/n \\Rightarrow n=\\left[\\frac1{x-x_0} \\right] \\\\\n",
      "0 \\le a^{x_0}(a^{1/n}-1) \\le \\epsilon\\\\\n",
      "0 \\le a^{x_0}(\\sqrt[n]{a}-1) \\le \\epsilon \\\\\n",
      "0 \\le a^{x_0}(\\sqrt[n]{a}-1) \\le a^{x_0}\\frac{a-1}{n} \\\\\n",
      "$$\n",
      "Quest'ultima quantit\u00e0 \u00e8 una quantit\u00e0 arbitraria che dipende da $\\epsilon$ quindi la mia tesi \u00e8 dimostrata"
     ]
    }
   ],
   "metadata": {}
  }
 ]
}