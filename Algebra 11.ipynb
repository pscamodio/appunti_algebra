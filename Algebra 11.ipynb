{
 "metadata": {
  "name": "",
  "signature": "sha256:51fc97597aac6618ef3f5b5c80c2a1098cf59934aaf95285c0142f10da021152"
 },
 "nbformat": 3,
 "nbformat_minor": 0,
 "worksheets": [
  {
   "cells": [
    {
     "cell_type": "markdown",
     "metadata": {},
     "source": [
      "#Punto di Accumulazione\n",
      "Un punto viene detto *punto di accumulazione* se, dato un appropiato intorno di questo punto, \u00e8 possibile trovare infiniti altri punti della funzione.\n",
      "$$\n",
      "f: A \\subseteq R \\mapsto R \\\\\n",
      "\\forall r \\gt 0; \\exists I(x_0, r) \\\\\n",
      "f(I(x_0, r)) \\text{ ha infiniti punti } \n",
      "$$\n",
      "Condizione necessaria perch\u00e8 esista un punto di accumulazione \u00e8 che la funzione f originale sia a sua volta non finita.  \n",
      "##Punto isolato\n",
      "Il punto di accumulazione pu\u00f2 non far parte dell'immagine della soluzione.  \n",
      "Per esempio prendendo $ f: ]0,1] \\mapsto R; f(x) = x $ possiamo vedere come dato un qualsiasi intorno di 0 noi abbiamo infiniti punti, quindi 0 \u00e8 punto di accumulazione. Per\u00f2 0 non f\u00e0 parte dell'immagine della funziona. \n",
      "Possiamo comunque notare con in questa funzione tutti i punti del dominio della funzione sono anche punti di accumulazione. "
     ]
    },
    {
     "cell_type": "markdown",
     "metadata": {},
     "source": [
      "##Limite in un punto isolato\n",
      "Possiamo quindi definire il concetto di limite a cui tende la funzione in un punto isolato\n",
      "$$\n",
      "f: A \\mapsto R \\\\\n",
      "x_0 \\text{ punto di accumulazione} \\\\\n",
      "\\lim_{x \\to x_0}f = L \\text{ se}\\\\\n",
      "\\forall \\epsilon \\gt 0; \\exists \\delta_\\epsilon;\\\\\n",
      "\\exists x \\in (A \\setminus \\{x_0\\}) \\cap I(x_0, \\delta_\\epsilon) \\\\\n",
      "|f(x) - L| \\lt \\epsilon\n",
      "$$\n",
      "Quinidi dato un punto isolato, scelto un $\\epsilon$ arbitrario possiamo trovare un intorno centrato in quel punto i cui tutti i punti si discostino dal limite $L$ meno di questo $\\epsilon$ arbitrario\n",
      "##Continuit\u00e0 in un punto\n",
      "Data questa definizione di limite possiamo definire il concetto di *continuit\u00e0 della funzione in un punto*.  \n",
      "$$\n",
      "f: A \\mapsto R \\\\\n",
      "x_0 \\text{ punto di accumulazione} \\\\\n",
      "f \\text{ \u00e8 continua in $x_0$ se} \\\\\n",
      "\\lim_{x \\to x_0}f(x) = f(x_0) \n",
      "$$\n",
      "Quindi una funzione \u00e8 continua in un punto se in quel punto il limite esiste e coincide con il valore della funzione nel punto stesso. "
     ]
    },
    {
     "cell_type": "markdown",
     "metadata": {},
     "source": [
      "###Esempio di funzione discontinua\n",
      "Un esempio di funzione discontinua \u00e8 la funzione *parte intera*\n",
      "$$\n",
      "f: A \\mapsto N, f(x) = [x] \\\\\n",
      "$$\n",
      "Questa funzione dato un numero reale gli abbina il numero limitato alla sua parte intera.  "
     ]
    },
    {
     "cell_type": "code",
     "collapsed": false,
     "input": [
      "%matplotlib inline\n",
      "import matplotlib.pyplot as plt\n",
      "import numpy as np\n",
      "\n",
      "x = np.linspace(0., 1.9, 1000)\n",
      "y = np.sqrt(np.floor(x))\n",
      "plt.axis((0, 2,0, 2))\n",
      "\n",
      "plt.plot(x, y)"
     ],
     "language": "python",
     "metadata": {},
     "outputs": [
      {
       "metadata": {},
       "output_type": "pyout",
       "prompt_number": 10,
       "text": [
        "[<matplotlib.lines.Line2D at 0x170fbe0>]"
       ]
      },
      {
       "metadata": {},
       "output_type": "display_data",
       "png": "[encoded data removed]",
       "text": [
        "<matplotlib.figure.Figure at 0x170f710>"
       ]
      }
     ],
     "prompt_number": 10
    },
    {
     "cell_type": "markdown",
     "metadata": {},
     "source": [
      "Andando ad analizzare questa funzione nel punto 1 notiamo che in quel punto il limite non esiste.  \n",
      "Quindi in quel punto la funzione non \u00e8 continua."
     ]
    }
   ],
   "metadata": {}
  }
 ]
}