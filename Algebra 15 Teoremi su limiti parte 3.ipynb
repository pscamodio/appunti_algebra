{
 "metadata": {
  "name": "",
  "signature": "sha256:e4cf6342be1894891394261bbd14b5333e1f8d0fc2256302b366e21bd7634f9f"
 },
 "nbformat": 3,
 "nbformat_minor": 0,
 "worksheets": [
  {
   "cells": [
    {
     "cell_type": "markdown",
     "metadata": {},
     "source": [
      "#Calcolo di limite\n",
      "Ci sono alcuni limiti definiti notevoli, perch\u00e8 permettono una volta definiti sviluppo di ragionamenti successivi su altre funzioni.\n",
      "##Primo limite notevole\n",
      "Data la seguente funzione\n",
      "$$\n",
      "f: R\\mapsto R \\\\\n",
      "f = \\left( 1 + \\frac1x \\right)^x \\\\\n",
      "$$\n",
      "Vogliamo calcolarne i limiti per $x \\to +\\infty$ e $x \\to -\\infty$ e dimostrare che questa funzione, come detto in precedenza, tende al valore $e$\n",
      "$$\n",
      "\\lim_{x \\to +\\infty}f(x) = e \\\\\n",
      "\\lim_{x \\to -\\infty}f(x) = e \\\\\n",
      "$$\n",
      "Analizzo il dominio e il segno della parte fra parentesi\n",
      "$$\n",
      "D(f) = (-\\infty, 1) \\cup (1, +\\infty) \\\\\n",
      "g(x) = \\left( 1 + \\frac1x \\right) = \\left( \\frac{x+1}{x} \\right) \\\\\n",
      "g(x) \\gt 0 \\rightarrow x \\gt 0; x \\lt -1\n",
      "$$"
     ]
    },
    {
     "cell_type": "code",
     "collapsed": false,
     "input": [
      "%matplotlib inline\n",
      "import matplotlib.pyplot as plt\n",
      "import numpy as np\n",
      "import math\n",
      "\n",
      "x_less = np.linspace(-5., -1, 100, False)\n",
      "x_more = np.linspace(0.0000001, 5., 100, False)\n",
      "g_less = (1 + 1/x_less)\n",
      "g_more = (1 + 1/x_more)\n",
      "f_less = np.power(g_less, x_less)\n",
      "f_more = np.power(g_more, x_more)\n",
      "\n",
      "plt.plot(x_less, f_less)\n",
      "plt.plot(x_more, f_more)\n",
      "plt.axhline(math.e, color=\"r\")\n",
      "axis = plt.axis((-5., 5., 0., 10.))"
     ],
     "language": "python",
     "metadata": {},
     "outputs": [
      {
       "metadata": {},
       "output_type": "display_data",
       "png": "[encoded data removed]",
       "text": [
        "<matplotlib.figure.Figure at 0x6e62278>"
       ]
      }
     ],
     "prompt_number": 36
    },
    {
     "cell_type": "markdown",
     "metadata": {},
     "source": [
      "$$\n",
      "\\text {maggioro e minoro la mai frazione} \\\\\n",
      "\\left( 1+ \\frac1{[x]+1} \\right)^{[x]}    \\le \n",
      "\\left( 1+ \\frac1x       \\right)^x        \\le \n",
      "\\left( 1+ \\frac1{[x]}   \\right)^{[x] +1} \\\\\n",
      "n = [x] \\text{parte intera} \\\\\n",
      "\\left( 1+ \\frac1{n+1}   \\right)^{n}   \\le\n",
      "\\left( 1+ \\frac1x       \\right)^x     \\le\n",
      "\\left( 1+ \\frac1n       \\right)^{n+1} \\\\\n",
      "\\text {La parte a desta \u00e8 la successione $B_n$ che tende a e} \\\\\n",
      "\\left( 1+ \\frac1{n+1}   \\right)^{n}   \\le\n",
      "\\left( 1+ \\frac1x       \\right)^x     \\le\n",
      "B_n \\to e\\\\\n",
      "\\text {La parte a sinistra la moltiplico e divido per la sua parte fra parentesi} \\\\\n",
      "\\frac{\\left( 1+ \\frac1{n+1}   \\right)^{n+1}}{\\left( 1+ \\frac1{n+1}   \\right)} \\le\n",
      "\\left( 1+ \\frac1x       \\right)^x     \\le\n",
      "B_n \\to e\\\\\n",
      "\\frac{\\left( 1+ \\frac1{n+1}   \\right)^{n+1} \\to e}{\\left( 1+ \\frac1{n+1}   \\right) \\to 1} \\le\n",
      "\\left( 1+ \\frac1x       \\right)^x     \\le\n",
      "B_n \\to e\\\\\n",
      "$$\n",
      "Per il teorema dei due carabinieri ho costretto la mia funzione fra due funzioni (in realt\u00e0 successioni) che entrambe tendono a e, quindi la mia funzione tender\u00e0 a sua volta a e"
     ]
    },
    {
     "cell_type": "markdown",
     "metadata": {},
     "source": [
      "#Funzioni circolari\n",
      "###Continuit\u00e0\n",
      "Dato che vale la seguente disuguaglianza\n",
      "$$\n",
      "|\\sin x| \\le |x|\n",
      "$$\n",
      "Posso quindi per dimostrare la continuita della funzione seno parto dalla formula di prostaferesi\n",
      "$$\n",
      "\\sin x - \\sin x_0 = \n",
      "2\\sin \\left(\\frac{x-x_0}{2}\\right) \n",
      "\\cos \\left(\\frac{x+x_0}{2}\\right) \\\\\n",
      "|\\sin x - \\sin x_0| =\n",
      "2\\left| \\sin \\left(\\frac{x-x_0}{2}\\right) \\right|\n",
      "\\left| \\cos \\left(\\frac{x+x_0}{2}\\right) \\right| \\\\\n",
      "|\\sin x - \\sin x_0| \\le 2\\left| \\frac{x-x_0}2 \\right| \\\\\n",
      "|\\sin x - \\sin x_0| \\le \\left| x-x_0 \\right|\\\\\n",
      "\\delta_\\epsilon = \\epsilon\n",
      "$$\n",
      "Per dimostrare che la funzione coseno \u00e8 a sua volta continua posso ricorrere alla composizione di funzioni continue e ricordare che\n",
      "$$\n",
      "\\cos x = \\sin \\left(x + \\frac\\varphi2 \\right)\n",
      "$$\n",
      "e quindi \u00e8 a sua volta continua. E lo stesso vale per la tangente\n",
      "$$\n",
      "\\tan x = \\frac{\\sin x}{\\cos x}\n",
      "$$\n",
      "###Limiti\n",
      "Vado ora a dimostrare che\n",
      "$$\n",
      "\\lim_{x \\to 0}\\frac{\\sin x}x = 1\n",
      "$$\n",
      "Dato che $\\sin x$ \u00e8 una funzione dispari come x allora la mia funzione sar\u00e0 pari (Il rapporto tra due funzioni dispari \u00e8 una funzione pari.  \n",
      "Questo mi permette di analizzare il limite solo da destra perch\u00e8 essendo pari s\u00f2 gia che il limite destro e sinistro, se esistono, coincidono.  \n",
      "$$\n",
      "0 \\le \\sin x \\le x \\le \\tan x \\\\\n",
      "\\frac{\\sin x}{\\sin x} \\le \\frac{x}{\\sin x} \\le \\frac{\\tan x}{\\sin x} \\\\\n",
      "1 \\le \\frac{x}{\\sin x} \\le \\frac{1}{\\cos x} \\to 1 \\\\\n",
      "$$\n",
      "Per il teorema dei due carabinieri la funzione $\\frac{x}{\\sin x}$ tende a 1 quindi anche il suo reciroco."
     ]
    },
    {
     "cell_type": "markdown",
     "metadata": {},
     "source": [
      "#Funzioni monotone\n",
      "Se f \u00e8 una funzione monotona crescente sull'insieme $A$ illimitato superiormente\n",
      "$$\n",
      "\\lim_{x\\to +\\infty}f = supIf\n",
      "$$\n",
      "E' facilmente dimostrabile perch\u00e8 ogni funzione pu\u00f2 essere maggiorata dalla successione dove pongo per ogni x la parte intera inferiore che \u00e8 gia stata dimostrata.  \n",
      "Lo stesso vale all'inverso per le monotone decrescenti.  "
     ]
    },
    {
     "cell_type": "markdown",
     "metadata": {},
     "source": [
      "#Funzioni continue su intervalli\n",
      "Data f continua e definita su un intervallo chiuso\n",
      "$$\n",
      "f: [a, b] \\mapsto R, f \\text{ \u00e8 continua}\n",
      "$$\n",
      "allora f \u00e8 limitata.  \n",
      "Devo quindi dimostrare che\n",
      "$$\n",
      "sup f([a, b]) \\in R\n",
      "$$\n",
      "Verr\u00e0 dimostrata per assurdo quindi suppongo che f \u00e8 illimitata superiormente\n",
      "Creo una successione secondo la seguente regola\n",
      "$$\n",
      "b_n: \\\\\n",
      "[a, b_0] = [a, b] \\\\\n",
      "[a, b_{n+1}] = [a, b_{n}/2]\n",
      "$$\n",
      "In questo modo ho creato una sequenza di intervalli, tutti contenuti in $[a, b]$, sempre pi\u00f9 piccoli e mi chied se, la mia funzione f, \u00e8 limitata superiormente su tutti questi intervalli.\n",
      "\n",
      "Posso farlo perch\u00e8 la funzione, essendo continua, sar\u00e0 definita su tutti i miei sotto intervalli. \n",
      "\n",
      "Per\u00f2 al crescere di n, i valori con $b_m;  m \\lt n$ della mia successione sono maggioraneti della mia funzione. \n",
      "\n",
      "Quindi la mia funzione \u00e8 per definizione illimitata superiormente ma ammette un insieme di maggioranti. \n",
      "\n",
      "Quindi sono giunto a una contraddizione che conferma la mia tesi originaria.  \n",
      "\n",
      "Lo stesso pu\u00f2 essere fatto per dimostrare in caso di limitato inferiormente.  "
     ]
    }
   ],
   "metadata": {}
  }
 ]
}