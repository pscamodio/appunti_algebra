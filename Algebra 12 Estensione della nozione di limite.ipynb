{
 "metadata": {
  "name": "",
  "signature": "sha256:fa0492942d209d9ea1a4fdd70c9f3cc6824e08ae9c1d9a6f06bdd900aa966fd1"
 },
 "nbformat": 3,
 "nbformat_minor": 0,
 "worksheets": [
  {
   "cells": [
    {
     "cell_type": "markdown",
     "metadata": {},
     "source": [
      "#Funzione convergente al limite L\n",
      "Data la seguente definizione di limte\n",
      "\n",
      "$$\n",
      "\\forall \\epsilon > 0; \\exists \\delta_{\\epsilon} > 0: \\\\\n",
      "x \\in (A\\setminus\\{x0\\}\\cap I(x_{0};\\delta_{\\epsilon}))\\Rightarrow \\\\\n",
      "f(x)-L| < \\epsilon \\\\\n",
      "f(x) \\in I(L; \\epsilon)\n",
      "$$\n",
      "\n",
      "per comodit\u00e0 diamo una nomeclatura per l'insime a cui appartiene x  \n",
      "\n",
      "\\begin{align}\n",
      "A^*(x_0; \\delta)& = (A\\setminus\\{x_0\\}) \\cap I(x_0;\\delta)\\\\\n",
      "A^*(x_0; \\delta)& = A \\cap I(x_0;\\delta)\\\\\n",
      "\\end{align}\n",
      "\n",
      "Di conseguenza semplifico la notazione di convergenza a un limite L  \n",
      "\n",
      "$$\n",
      "\\forall \\epsilon > 0; \\exists \\delta_\\epsilon > 0: \\\\\n",
      "f(A^*(x_0; \\delta_\\epsilon)) \\subseteq I(L; \\epsilon)\n",
      "$$\n",
      "\n",
      "Data questa notazione di convergenza a un limite L possiamo semplificare la definizione di funzione continua\n",
      "\n",
      "$$\n",
      "\\forall \\epsilon \\gt 0: \\exists \\delta_\\epsilon \\gt 0: \\\\\n",
      "f(A(x_0; \\delta_\\epsilon)) \\subseteq I(f(x); \\epsilon)\n",
      "$$"
     ]
    },
    {
     "cell_type": "heading",
     "level": 1,
     "metadata": {},
     "source": [
      "Funzioni continue"
     ]
    },
    {
     "cell_type": "markdown",
     "metadata": {},
     "source": [
      "###Polinomio primo grado\n",
      "\n",
      "Prendiamo un esempio di funzione affine continua\n",
      "\n",
      "$$f(x) = mx+q$$\n",
      "\n",
      "Questa \u00e8 l'equazione di una retta su un piano avente m come coefficente angolare.  \n",
      "Prendendo $m=0$ questa \u00e8 ovviamente continua  \n",
      "\n",
      "Andiamo quindi a chiederci se \u00e8 continua con $m\\ne0$\n",
      "$$\n",
      "\\forall \\epsilon \\gt 0 \\\\\n",
      "|f(x)-f(x_0)| \\lt \\epsilon \\\\\n",
      "|f(x)-f(x_0)| = |m||x-x_0| \\lt \\epsilon \\\\\n",
      "|x-x_0| \\lt \\epsilon/|m| \\\\\n",
      "\\delta_\\epsilon = \\epsilon/|m|\n",
      "$$\n",
      "\n",
      "Avendo definito che $m\\ne0$ ne risulta che $\\delta_\\epsilon$ \u00e8 sempre definito e quindi la funzione \u00e8 continua in tutti i suoi punti"
     ]
    },
    {
     "cell_type": "markdown",
     "metadata": {},
     "source": [
      "### Funzione radice quadrata\n",
      "\n",
      "Analizzo ora un caso pi\u00f9 complesso\n",
      "$$y = \\sqrt(x)\\\\ x \\gt 0%$$"
     ]
    },
    {
     "cell_type": "code",
     "collapsed": false,
     "input": [
      "%matplotlib inline\n",
      "import matplotlib.pyplot as plt\n",
      "import numpy as np\n",
      "\n",
      "x = np.linspace(0, 1000, 10000)\n",
      "y = np.sqrt(x)\n",
      "\n",
      "plt.plot(x, y)"
     ],
     "language": "python",
     "metadata": {},
     "outputs": [
      {
       "metadata": {},
       "output_type": "pyout",
       "prompt_number": 1,
       "text": [
        "[<matplotlib.lines.Line2D at 0x74f86a0>]"
       ]
      },
      {
       "metadata": {},
       "output_type": "display_data",
       "png": "[encoded data removed]",
       "text": [
        "<matplotlib.figure.Figure at 0x5423518>"
       ]
      }
     ],
     "prompt_number": 1
    },
    {
     "cell_type": "markdown",
     "metadata": {},
     "source": [
      "Anche in questo caso voglio chiedermi se la funzione \u00e8 continua.  \n",
      "Il dubbio \u00e8 nell'intorno dell'origine dove intuisco che il coefficente angolare in quel punto sembra tendere all'infinito\n",
      "\n",
      "Per arrivare a questo risultato affronto prima la dimostrazione di un'altra disequazione che poi mi aiuter\u00e0 nel compito\n",
      "\n",
      "\\begin{align}\n",
      "0 \\le x_1 \\lt x_2 \\Rightarrow \\\\\n",
      "\\sqrt{x_2} - \\sqrt{x_1} & \\le \\sqrt{x_2 - x_1} \\\\\n",
      "x_2 - x_1 - 2\\sqrt{x_2x_1} & \\le x_2 - x_1 \\\\\n",
      "2x_1 & \\le 2\\sqrt{x_2x_1} \\\\\n",
      "x_1 & \\le \\sqrt{x_2x_1} \\\\\n",
      "x_1^2 & \\le x_1x_2 \\\\\n",
      "x_1 & \\le x_2 \\\\\n",
      "CVD\n",
      "\\end{align}\n",
      "\n",
      "Ora posso procedere alla dimostrazione di continuit\u00e0\n",
      "\n",
      "$$\n",
      "y = \\sqrt{x}, A = [0, +\\infty) \\\\\n",
      "\\forall \\epsilon \\gt 0; \\exists x_0 \\lt x \\Rightarrow \\\\\n",
      "|f(x) - f(x_0)| \\lt \\epsilon \\\\\n",
      "\\sqrt{x} - \\sqrt{x_0} \\lt \\epsilon \\\\\n",
      "$$\n",
      "Dalla disequazione precedente otteniamo\n",
      "$$\n",
      "\\sqrt{x} - \\sqrt{x_0} \\le \\sqrt{x-x_0} \\lt \\epsilon \\\\\n",
      "x - x_0 \\lt \\epsilon^2 \\\\\n",
      "\\delta_\\epsilon = \\epsilon^2\n",
      "$$"
     ]
    },
    {
     "cell_type": "markdown",
     "metadata": {},
     "source": [
      "#Funzioni divergenti\n",
      "Come per le funzioni convergenti che tendono a un valore $L$ andiamo a definire le funzioni divergenti.  \n",
      "Queste possono divergere sia positivamente che negativamente.  \n",
      "Qui riporto la definizione di funzione che diverge positivamente:\n",
      "\n",
      "$$\n",
      "\\forall M \\gt 0 \\exists \\delta_M \\gt 0\\\\\n",
      "x \\in A^*(x_0, \\delta_M) \\Rightarrow f(x) > M\\\\\n",
      "$$"
     ]
    },
    {
     "cell_type": "markdown",
     "metadata": {},
     "source": [
      "#Definizione di limite che tende a infinito\n",
      "Anche per questa definizione vale sia il tendere a $+\\infty$ che $+\\infty$  \n",
      "Inizio col caso di $+\\infty$, quindi analizzo una funzione definita su un dominio $A$ illimitato superiormente, condizione che possiamo indicare come $$ supA = +\\infty $$  \n",
      "Posso quindi definire il limite che tende a infinito come segue\n",
      "$$\n",
      "\\lim_{x\\to +\\infty}f(x) = L;\\\\\n",
      "\\forall \\epsilon \\gt 0: \\exists \\delta_\\epsilon \\gt 0 \\Rightarrow \\\\\n",
      "\\forall x \\in A \\cap (\\delta_\\epsilon, +\\infty) \\Rightarrow \\\\\n",
      "f(x) \\in I(L,\\epsilon); |f(x)-L| \\lt \\epsilon\n",
      "$$\n",
      "Il limite $x\\to -\\infty$ \u00e8 definito in maniera equivalente"
     ]
    },
    {
     "cell_type": "markdown",
     "metadata": {},
     "source": [
      "##Funzione $1/x$\n",
      "Vado quindi ad analizzare il limite di $y = 1/x$  \n",
      "$$\n",
      "1/x - 1/x0 \\lt \\epsilon \\\\\n",
      "x - x0 \\lt 1/\\epsilon \\\\\n",
      "\\lim_{x\\to +\\infty} = 1/\\epsilon = 0 \\\\\n",
      "$$\n",
      "Posso visualizzare questa relazione in questo modo.\n",
      "Quando $x \\gt 1/\\epsilon$ allora $f(x) \\in (-L/\\epsilon, L/\\epsilon)$ con $L = 0$.  \n",
      "Vado quindi a rappresentare su un grafico la mia funzione e 2 rette\n",
      "$$ \n",
      "r_1 = -\\epsilon \\\\\n",
      "r_2 = \\epsilon \\\\ \n",
      "$$\n",
      "E potr\u00f2 vedere come qualunque $\\epsilon$ scelgo, se visualizzo almeno l'intorno $(-1/\\epsilon, 1/\\epsilon)$ la mia funzione entrer\u00e0 tra le due rette di riferimento."
     ]
    },
    {
     "cell_type": "code",
     "collapsed": false,
     "input": [
      "import matplotlib.pyplot as plt\n",
      "from matplotlib.widgets import Slider\n",
      "import numpy as np\n",
      "from IPython.display import Math\n",
      "\n",
      "e = 0.0001\n",
      "x = np.linspace(-2/e, 2/e, 1000)\n",
      "y = 1/x\n",
      "f = plt.plot(x, y)\n",
      "s1 = plt.plot(x, (x/x)+(e-1))\n",
      "s2 = plt.plot(x, (x/x)-(e+1))\n",
      "axis = plt.axis((-2/e, 2/e, -e*10, e*10))"
     ],
     "language": "python",
     "metadata": {},
     "outputs": [
      {
       "metadata": {},
       "output_type": "display_data",
       "png": "[encoded data removed]",
       "text": [
        "<matplotlib.figure.Figure at 0x74b2780>"
       ]
      }
     ],
     "prompt_number": 2
    },
    {
     "cell_type": "markdown",
     "metadata": {},
     "source": [
      "#Limiti destro e sinistro\n",
      "Dato l'esempio precedente ora posso chiedermi qual'\u00e8 $\\lim_{x\\to 0}f(x)$?  \n",
      "Se analizzo solo i valori $x > 0$ allora \u00e8 facile vedere che il limite \u00e8 $+\\infty$.  \n",
      "Per i valori $x < 0$ noto per\u00f2 che il limite \u00e8 $-\\infty$  \n",
      "Non posso quindi definire un unico limite per $x\\to 0$  \n",
      "Sfruttando il fatto che l'insieme $R$ \u00e8 ordinato vado come prima cosa ad aggiungere una nuova notazione.\n",
      "$$\n",
      "A^+(x_0) := \\{x \\in A; x \\gt x_0\\} \\\\\n",
      "A^-{x_0} := \\{x \\in A; x \\lt x_0\\}\n",
      "$$\n",
      "Quindi posso definire il limite \"destro\" come il limite della funzione ristretta all'insieme $A^+{x_0}$\n",
      "$$\n",
      "g(x) = f(x); x \\in A^+{x_0} \\\\\n",
      "\\lim_{x\\to x^+_0}f(x) =\n",
      "\\lim_{x\\downarrow 0}f(x) =\n",
      "\\lim_{x\\to0}g(x)\n",
      "$$\n",
      "\n",
      "Allo stesso modo posso definire il limite \"sinistro\" restrigento il dominio della funzione solo all'insieme $A^-{x_0}$\n",
      "\n",
      "##Unicit\u00e0 del limite\n",
      "Posso quindi notare che il limite in un punto esiste se e solo se in quel punto esistono e sono coincidenti sia i limiti destro e sinistro. \n",
      "E in questo caso il limite sar\u00e0 uguale al limite destro e sinistro.\n",
      "\n",
      "Di conseguenza se un limite esiste \u00e8 unico."
     ]
    }
   ],
   "metadata": {}
  }
 ]
}